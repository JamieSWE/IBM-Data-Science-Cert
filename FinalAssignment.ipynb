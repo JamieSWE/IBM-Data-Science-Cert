{
    "cells": [
        {
            "metadata": {
                "collapsed": true
            },
            "cell_type": "markdown",
            "source": "# My Jupyter Notebook on IBM Watson Studio"
        },
        {
            "metadata": {},
            "cell_type": "markdown",
            "source": "**Jamie Shaw**<br/>\nDesired Occupation: Data Scientist or Machine Learning Engineer"
        },
        {
            "metadata": {},
            "cell_type": "markdown",
            "source": "_I am interested in data science because it's the sexist job of the 21st century._"
        },
        {
            "metadata": {},
            "cell_type": "markdown",
            "source": "### The function accepts a username, and then displays a greeting with the entered name."
        },
        {
            "metadata": {},
            "cell_type": "code",
            "source": "def greeting(username):\n    return \"Hello \" + username +\", how are you?\"\n\ngreeting(\"Jamie\")",
            "execution_count": 4,
            "outputs": [
                {
                    "output_type": "execute_result",
                    "execution_count": 4,
                    "data": {
                        "text/plain": "'Hello Jamie, how are you?'"
                    },
                    "metadata": {}
                }
            ]
        },
        {
            "metadata": {},
            "cell_type": "markdown",
            "source": "***\n\n* Bullet\n* List\n\n1. Numbered\n2. List\n\n|I'm a|Table|\n|---|---|\n|Row|1|\n|Row|2|\n\n[IBM Watson Studio](https://www.ibm.com/cloud/watson-studio)\n\n![IBM](data:image/jpeg;base64,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)\n\n```json\n{\n    \"Name\": \"Jamie Shaw\"\n    \"Description\": \"This is syntax highlighting\"\n}\n```\n\n> This a blocked quote!\n\n~Strikethrough~"
        }
    ],
    "metadata": {
        "kernelspec": {
            "name": "python3",
            "display_name": "Python 3.9",
            "language": "python"
        },
        "language_info": {
            "name": "python",
            "version": "3.9.13",
            "mimetype": "text/x-python",
            "codemirror_mode": {
                "name": "ipython",
                "version": 3
            },
            "pygments_lexer": "ipython3",
            "nbconvert_exporter": "python",
            "file_extension": ".py"
        }
    },
    "nbformat": 4,
    "nbformat_minor": 1
}